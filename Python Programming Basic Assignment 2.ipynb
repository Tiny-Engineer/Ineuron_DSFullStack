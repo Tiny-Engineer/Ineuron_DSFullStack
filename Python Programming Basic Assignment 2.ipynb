{
 "cells": [
  {
   "cell_type": "markdown",
   "metadata": {},
   "source": [
    "# Python Programming Basic Assignment 2"
   ]
  },
  {
   "cell_type": "markdown",
   "metadata": {},
   "source": [
    "# Ravi Teja Gonnabathula"
   ]
  },
  {
   "cell_type": "markdown",
   "metadata": {},
   "source": [
    "raviteja.gonnabathulla@gmail.com"
   ]
  },
  {
   "cell_type": "markdown",
   "metadata": {},
   "source": [
    "## Write a Python program to convert kilometers to miles?"
   ]
  },
  {
   "cell_type": "code",
   "execution_count": 1,
   "metadata": {},
   "outputs": [
    {
     "name": "stdout",
     "output_type": "stream",
     "text": [
      "enter the value in Kilometers:5\n",
      "5 km is equal to 5000 m\n"
     ]
    }
   ],
   "source": [
    "km=int(input(\"enter the value in Kilometers:\"))\n",
    "m = km*1000\n",
    "print(km,\"km is equal to\",m,\"m\")"
   ]
  },
  {
   "cell_type": "markdown",
   "metadata": {},
   "source": [
    "## Write a Python program to convert Celsius to Fahrenheit?"
   ]
  },
  {
   "cell_type": "code",
   "execution_count": 6,
   "metadata": {},
   "outputs": [
    {
     "name": "stdout",
     "output_type": "stream",
     "text": [
      "enter the value in Celsius:50\n",
      "50 degrees Celsius is equal to 122.0 degrees Fahrenheit\n"
     ]
    }
   ],
   "source": [
    "C=int(input(\"enter the value in Celsius:\"))\n",
    "F=(C * 1.8) + 32 \n",
    "print(C,\"degrees Celsius is equal to\",F,\"degrees Fahrenheit\")"
   ]
  },
  {
   "cell_type": "markdown",
   "metadata": {},
   "source": [
    "## Write a Python program to display calendar?"
   ]
  },
  {
   "cell_type": "code",
   "execution_count": 5,
   "metadata": {},
   "outputs": [
    {
     "name": "stdout",
     "output_type": "stream",
     "text": [
      "Enter year: 2021\n",
      "Enter month in number: 06\n",
      "     June 2021\n",
      "Mo Tu We Th Fr Sa Su\n",
      "    1  2  3  4  5  6\n",
      " 7  8  9 10 11 12 13\n",
      "14 15 16 17 18 19 20\n",
      "21 22 23 24 25 26 27\n",
      "28 29 30\n",
      "\n"
     ]
    }
   ],
   "source": [
    "import calendar   \n",
    "year = int(input(\"Enter year: \"))  \n",
    "month = int(input(\"Enter month in number: \"))  \n",
    "print(calendar.month(year,month))  "
   ]
  },
  {
   "cell_type": "markdown",
   "metadata": {},
   "source": [
    "## Write a Python program to solve quadratic equation?"
   ]
  },
  {
   "cell_type": "code",
   "execution_count": 4,
   "metadata": {},
   "outputs": [
    {
     "name": "stdout",
     "output_type": "stream",
     "text": [
      "enter the value of a:5\n",
      "enter the value of b:6\n",
      "enter the value of c:1\n",
      "The roots of the quadratic equation '' 5 (x**2)+ 6 x+ 1 '' are -0.2 and -1.0\n"
     ]
    }
   ],
   "source": [
    "#quadratic equation form:(a(x**2)+bx+c=0)\n",
    "a=int(input(\"enter the value of a:\"))\n",
    "b=int(input(\"enter the value of b:\"))\n",
    "c=int(input(\"enter the value of c:\"))\n",
    "x_root1=(-b+(((b**2)-(4*a*c))**0.5))/(2*a)\n",
    "x_root2=(-b-(((b**2)-(4*a*c))**0.5))/(2*a)\n",
    "print(\"The roots of the quadratic equation\",\"''\",a,\"(x**2)+\",b,\"x+\",c,\"''\",\"are\",x_root1,\"and\",x_root2)"
   ]
  },
  {
   "cell_type": "markdown",
   "metadata": {},
   "source": [
    "## Write a Python program to swap two variables without temp variable?"
   ]
  },
  {
   "cell_type": "code",
   "execution_count": 3,
   "metadata": {},
   "outputs": [
    {
     "name": "stdout",
     "output_type": "stream",
     "text": [
      "enter the value of a:586\n",
      "enter the value of b:789\n",
      "value of 'a' after swapping: 789\n",
      "value of 'b' after swapping: 586\n"
     ]
    }
   ],
   "source": [
    "a=int(input(\"enter the value of a:\"))\n",
    "b=int(input(\"enter the value of b:\"))\n",
    "(a,b)=(b,a)\n",
    "print(\"value of 'a' after swapping:\",a)\n",
    "print(\"value of 'b' after swapping:\",b)"
   ]
  }
 ],
 "metadata": {
  "kernelspec": {
   "display_name": "Python 3",
   "language": "python",
   "name": "python3"
  },
  "language_info": {
   "codemirror_mode": {
    "name": "ipython",
    "version": 3
   },
   "file_extension": ".py",
   "mimetype": "text/x-python",
   "name": "python",
   "nbconvert_exporter": "python",
   "pygments_lexer": "ipython3",
   "version": "3.8.5"
  }
 },
 "nbformat": 4,
 "nbformat_minor": 4
}
